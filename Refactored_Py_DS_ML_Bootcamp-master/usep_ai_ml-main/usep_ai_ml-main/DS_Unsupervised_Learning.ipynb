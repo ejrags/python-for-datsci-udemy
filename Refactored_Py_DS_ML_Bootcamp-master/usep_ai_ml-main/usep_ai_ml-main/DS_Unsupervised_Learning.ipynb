{
 "cells": [
  {
   "cell_type": "markdown",
   "metadata": {
    "slideshow": {
     "slide_type": "slide"
    }
   },
   "source": [
    "# Crash Course on Machine Learning\n",
    "# Introduction to Unsupervised Learning: A Customer Segmentation Problem\n",
    "\n",
    "Machine learning is a field of study that gives computers the ability to learn without being explicitly programmed. There are two main types of machine learning models: supervised and unsupervised.\n"
   ]
  },
  {
   "cell_type": "markdown",
   "metadata": {
    "slideshow": {
     "slide_type": "slide"
    }
   },
   "source": [
    "### Supervised vs Unsupervised\n",
    "\n",
    "|  | Supervised | Unsupervised |\n",
    "| --- | --- | --- |\n",
    "| Target | Labeled Data| Unlabeled Data|\n",
    "| Training Data | Requires train-test split| Can train entire data |\n",
    "| Results | Have metrics (e.g. accuracy)|Requires strong domain knowledge to interpret |\n",
    "| Common Uses | classification, regression| clustering |"
   ]
  },
  {
   "cell_type": "markdown",
   "metadata": {},
   "source": [
    "For this notebook, we will only be doing unsupervised learning."
   ]
  },
  {
   "cell_type": "markdown",
   "metadata": {
    "slideshow": {
     "slide_type": "slide"
    }
   },
   "source": [
    "## The Data Science Process"
   ]
  },
  {
   "cell_type": "markdown",
   "metadata": {
    "slideshow": {
     "slide_type": "fragment"
    }
   },
   "source": [
    "1. Businness Understanding\n",
    "2. Data Understanding\n",
    "3. Data Preparation\n",
    "4. Modeling\n",
    "5. Model Evaluation\n",
    "6. Deployment\n",
    "\n",
    "*Note: An actual ML process is not straightforward and requires a lot of iteration.*"
   ]
  },
  {
   "cell_type": "markdown",
   "metadata": {},
   "source": [
    "## A. Business Understanding"
   ]
  },
  {
   "cell_type": "markdown",
   "metadata": {},
   "source": [
    "Customer segmentation is the process of **dividing customers into groups based on common characteristics** in order for companies to be able to market to each group effectively and appropriately. One marketing analysis tool used to identify a company's or an organization's best customers is the RFM model. The RFM model is based on three quantitative factors:\n",
    "- **Recency:** How recently a customer has made a purchase\n",
    "- **Frequency:** How often a customer makes a purchase\n",
    "- **Monetary Value:** How much money a customer spends on purchases\n",
    "\n",
    "\n",
    "Our objective is to be able to **segement the customers based on RFM** so that the company can better target its customers."
   ]
  },
  {
   "cell_type": "markdown",
   "metadata": {},
   "source": [
    "## B. Data Understanding"
   ]
  },
  {
   "cell_type": "code",
   "execution_count": 7,
   "metadata": {
    "ExecuteTime": {
     "end_time": "2020-12-30T13:13:04.357233Z",
     "start_time": "2020-12-30T13:13:04.345818Z"
    }
   },
   "outputs": [],
   "source": [
    "# Let's start coding! Import the usual libraries.\n",
    "import pandas as pd  \n",
    "import numpy as np  \n",
    "import seaborn as sns \n",
    "from matplotlib import pyplot as plt  \n",
    "%matplotlib inline "
   ]
  },
  {
   "cell_type": "markdown",
   "metadata": {},
   "source": [
    "<table><td><img src='data:image/png;base64,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'></td><td><img src='data:image/png;base64,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'></td><tr><td><img src='data:image/png;base64,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'></td><td><img src= 'data:image/png;base64,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'</td></table>"
   ]
  },
  {
   "cell_type": "markdown",
   "metadata": {
    "ExecuteTime": {
     "end_time": "2020-12-30T11:33:11.526740Z",
     "start_time": "2020-12-30T11:33:11.516037Z"
    }
   },
   "source": [
    "|Library|Description|\n",
    "|:-:|:--|\n",
    "|**Pandas**| fast, powerful, flexible and easy to use data analysis and manipulation tool|\n",
    "|**Numpy**| Python library used for working with arrays and matrices|\n",
    "|**Matplotlib**| comprehensive library for creating static, animated, and interactive visualizations|\n",
    "|**Seaborn**| Python data visualization library based on matplotlib|"
   ]
  },
  {
   "cell_type": "markdown",
   "metadata": {},
   "source": [
    "#### Reading the data with pandas"
   ]
  },
  {
   "cell_type": "code",
   "execution_count": 8,
   "metadata": {
    "ExecuteTime": {
     "end_time": "2020-12-30T13:13:10.123195Z",
     "start_time": "2020-12-30T13:13:04.366667Z"
    },
    "scrolled": true
   },
   "outputs": [],
   "source": [
    "df_retail = pd.read_csv(\"Retail.csv\", parse_dates=[\"InvoiceDate\"])"
   ]
  },
  {
   "cell_type": "markdown",
   "metadata": {},
   "source": [
    "Check first five rows"
   ]
  },
  {
   "cell_type": "code",
   "execution_count": 9,
   "metadata": {},
   "outputs": [
    {
     "data": {
      "text/html": [
       "<div>\n",
       "<style scoped>\n",
       "    .dataframe tbody tr th:only-of-type {\n",
       "        vertical-align: middle;\n",
       "    }\n",
       "\n",
       "    .dataframe tbody tr th {\n",
       "        vertical-align: top;\n",
       "    }\n",
       "\n",
       "    .dataframe thead th {\n",
       "        text-align: right;\n",
       "    }\n",
       "</style>\n",
       "<table border=\"1\" class=\"dataframe\">\n",
       "  <thead>\n",
       "    <tr style=\"text-align: right;\">\n",
       "      <th></th>\n",
       "      <th>InvoiceNo</th>\n",
       "      <th>StockCode</th>\n",
       "      <th>Description</th>\n",
       "      <th>Quantity</th>\n",
       "      <th>InvoiceDate</th>\n",
       "      <th>UnitPrice</th>\n",
       "      <th>CustomerID</th>\n",
       "      <th>Country</th>\n",
       "      <th>DaysLastBought</th>\n",
       "    </tr>\n",
       "  </thead>\n",
       "  <tbody>\n",
       "    <tr>\n",
       "      <th>0</th>\n",
       "      <td>536365</td>\n",
       "      <td>85123A</td>\n",
       "      <td>WHITE HANGING HEART T-LIGHT HOLDER</td>\n",
       "      <td>6</td>\n",
       "      <td>2010-12-01 08:26:00</td>\n",
       "      <td>2.55</td>\n",
       "      <td>17850.0</td>\n",
       "      <td>United Kingdom</td>\n",
       "      <td>373</td>\n",
       "    </tr>\n",
       "    <tr>\n",
       "      <th>1</th>\n",
       "      <td>536365</td>\n",
       "      <td>71053</td>\n",
       "      <td>WHITE METAL LANTERN</td>\n",
       "      <td>6</td>\n",
       "      <td>2010-12-01 08:26:00</td>\n",
       "      <td>3.39</td>\n",
       "      <td>17850.0</td>\n",
       "      <td>United Kingdom</td>\n",
       "      <td>373</td>\n",
       "    </tr>\n",
       "    <tr>\n",
       "      <th>2</th>\n",
       "      <td>536365</td>\n",
       "      <td>84406B</td>\n",
       "      <td>CREAM CUPID HEARTS COAT HANGER</td>\n",
       "      <td>8</td>\n",
       "      <td>2010-12-01 08:26:00</td>\n",
       "      <td>2.75</td>\n",
       "      <td>17850.0</td>\n",
       "      <td>United Kingdom</td>\n",
       "      <td>373</td>\n",
       "    </tr>\n",
       "    <tr>\n",
       "      <th>3</th>\n",
       "      <td>536365</td>\n",
       "      <td>84029G</td>\n",
       "      <td>KNITTED UNION FLAG HOT WATER BOTTLE</td>\n",
       "      <td>6</td>\n",
       "      <td>2010-12-01 08:26:00</td>\n",
       "      <td>3.39</td>\n",
       "      <td>17850.0</td>\n",
       "      <td>United Kingdom</td>\n",
       "      <td>373</td>\n",
       "    </tr>\n",
       "    <tr>\n",
       "      <th>4</th>\n",
       "      <td>536365</td>\n",
       "      <td>84029E</td>\n",
       "      <td>RED WOOLLY HOTTIE WHITE HEART.</td>\n",
       "      <td>6</td>\n",
       "      <td>2010-12-01 08:26:00</td>\n",
       "      <td>3.39</td>\n",
       "      <td>17850.0</td>\n",
       "      <td>United Kingdom</td>\n",
       "      <td>373</td>\n",
       "    </tr>\n",
       "  </tbody>\n",
       "</table>\n",
       "</div>"
      ],
      "text/plain": [
       "  InvoiceNo StockCode                          Description  Quantity  \\\n",
       "0    536365    85123A   WHITE HANGING HEART T-LIGHT HOLDER         6   \n",
       "1    536365     71053                  WHITE METAL LANTERN         6   \n",
       "2    536365    84406B       CREAM CUPID HEARTS COAT HANGER         8   \n",
       "3    536365    84029G  KNITTED UNION FLAG HOT WATER BOTTLE         6   \n",
       "4    536365    84029E       RED WOOLLY HOTTIE WHITE HEART.         6   \n",
       "\n",
       "          InvoiceDate  UnitPrice  CustomerID         Country  DaysLastBought  \n",
       "0 2010-12-01 08:26:00       2.55     17850.0  United Kingdom             373  \n",
       "1 2010-12-01 08:26:00       3.39     17850.0  United Kingdom             373  \n",
       "2 2010-12-01 08:26:00       2.75     17850.0  United Kingdom             373  \n",
       "3 2010-12-01 08:26:00       3.39     17850.0  United Kingdom             373  \n",
       "4 2010-12-01 08:26:00       3.39     17850.0  United Kingdom             373  "
      ]
     },
     "execution_count": 9,
     "metadata": {},
     "output_type": "execute_result"
    }
   ],
   "source": [
    "df_retail.head()"
   ]
  },
  {
   "cell_type": "markdown",
   "metadata": {
    "ExecuteTime": {
     "end_time": "2020-10-26T05:49:47.210371Z",
     "start_time": "2020-10-26T05:49:47.129191Z"
    }
   },
   "source": [
    "Let's clarify terminologies. \n",
    "\n",
    "Every row in the data is called an *obervation* or a *sample* and the total number of rows can also be called your observation size or sample size. Your columns are called *features*. Features represents a measurable piece of data that can be used for analysis. It is also referred to as variables or attribtues. In supervised learning, there is one column which we are trying to predict called the *target variable* or the *label*.\n",
    "\n",
    "How many observations and features do we have for this data?"
   ]
  },
  {
   "cell_type": "code",
   "execution_count": 10,
   "metadata": {
    "ExecuteTime": {
     "end_time": "2020-12-30T13:13:10.145455Z",
     "start_time": "2020-12-30T13:13:10.132357Z"
    }
   },
   "outputs": [
    {
     "data": {
      "text/plain": [
       "(541909, 9)"
      ]
     },
     "execution_count": 10,
     "metadata": {},
     "output_type": "execute_result"
    }
   ],
   "source": [
    "df_retail.shape"
   ]
  },
  {
   "cell_type": "markdown",
   "metadata": {},
   "source": [
    "What are these features?\n",
    "\n",
    "|Column Name|Description|\n",
    "|:-:|:--|\n",
    "|InvoiceNo|6-digit integral number uniquely assigned to each transaction|\n",
    "|StockCode|Product (item) code|\n",
    "|Description|Product (item) name|\n",
    "|Quantity|Quantities of each product (item) per transaction|\n",
    "|InvoiceDate|Day and time when each transaction was generated|\n",
    "|UnitPrice|Product price per unit in sterling|\n",
    "|CustomerID|5-digit integral number uniquely assigned to each customer|\n",
    "|Country|Name of the country where each customer resides|\n",
    "|DaysLastBough|Number of days prior to 09/12/2011|"
   ]
  },
  {
   "cell_type": "code",
   "execution_count": 11,
   "metadata": {
    "ExecuteTime": {
     "end_time": "2020-12-30T13:13:10.508603Z",
     "start_time": "2020-12-30T13:13:10.151768Z"
    }
   },
   "outputs": [
    {
     "name": "stdout",
     "output_type": "stream",
     "text": [
      "<class 'pandas.core.frame.DataFrame'>\n",
      "RangeIndex: 541909 entries, 0 to 541908\n",
      "Data columns (total 9 columns):\n",
      " #   Column          Non-Null Count   Dtype         \n",
      "---  ------          --------------   -----         \n",
      " 0   InvoiceNo       541909 non-null  object        \n",
      " 1   StockCode       541909 non-null  object        \n",
      " 2   Description     540455 non-null  object        \n",
      " 3   Quantity        541909 non-null  int64         \n",
      " 4   InvoiceDate     541909 non-null  datetime64[ns]\n",
      " 5   UnitPrice       541852 non-null  float64       \n",
      " 6   CustomerID      406829 non-null  float64       \n",
      " 7   Country         541909 non-null  object        \n",
      " 8   DaysLastBought  541909 non-null  int64         \n",
      "dtypes: datetime64[ns](1), float64(2), int64(2), object(4)\n",
      "memory usage: 37.2+ MB\n"
     ]
    }
   ],
   "source": [
    "df_retail.info()"
   ]
  },
  {
   "cell_type": "markdown",
   "metadata": {
    "slideshow": {
     "slide_type": "slide"
    }
   },
   "source": [
    "## C. Data Preparation\n",
    "\n",
    "### 1. Ensuring that the data is clean\n"
   ]
  },
  {
   "cell_type": "markdown",
   "metadata": {},
   "source": [
    "The first step in the data science process is to check first the integrity of your data. Is your data reliable? Always remember: garbage in, garbage out. Your machine learning model is only as good as the data you feed to it. Hence, ensuring that your data is clean is an important step."
   ]
  },
  {
   "cell_type": "markdown",
   "metadata": {
    "slideshow": {
     "slide_type": "slide"
    }
   },
   "source": [
    "***1.1. Handling missing data***\n",
    "\n",
    "Let's check how many missing data we have for this dataset."
   ]
  },
  {
   "cell_type": "code",
   "execution_count": 12,
   "metadata": {
    "ExecuteTime": {
     "end_time": "2020-12-30T13:13:10.836958Z",
     "start_time": "2020-12-30T13:13:10.527693Z"
    },
    "slideshow": {
     "slide_type": "slide"
    }
   },
   "outputs": [
    {
     "data": {
      "text/plain": [
       "InvoiceNo              0\n",
       "StockCode              0\n",
       "Description         1454\n",
       "Quantity               0\n",
       "InvoiceDate            0\n",
       "UnitPrice             57\n",
       "CustomerID        135080\n",
       "Country                0\n",
       "DaysLastBought         0\n",
       "dtype: int64"
      ]
     },
     "execution_count": 12,
     "metadata": {},
     "output_type": "execute_result"
    }
   ],
   "source": [
    "# Dealing with missing data\n",
    "df_retail.isna().sum()"
   ]
  },
  {
   "cell_type": "markdown",
   "metadata": {
    "slideshow": {
     "slide_type": "slide"
    }
   },
   "source": [
    "When we have missing values, we can opt to drop the data or to impute it. Let's review first how to drop data using dropna()."
   ]
  },
  {
   "cell_type": "code",
   "execution_count": 13,
   "metadata": {
    "ExecuteTime": {
     "end_time": "2020-12-30T15:45:02.845355Z",
     "start_time": "2020-12-30T15:45:01.961667Z"
    },
    "slideshow": {
     "slide_type": "fragment"
    }
   },
   "outputs": [
    {
     "name": "stdout",
     "output_type": "stream",
     "text": [
      "Original dataframe: (541909, 9)\n",
      "Dropped rows: (406791, 9)\n"
     ]
    }
   ],
   "source": [
    "# Do we drop row?\n",
    "print(f'Original dataframe: {df_retail.shape}')\n",
    "print(f'Dropped rows: {df_retail.dropna(axis=0).shape}')"
   ]
  },
  {
   "cell_type": "markdown",
   "metadata": {},
   "source": [
    "As you can see, dropping rows containg missing values will reduce the observations from 541909 to 406791. In this case, the dropped observations might not be significant. In some instances, however, dropping can signicantly reduce the size of your data and if you don't have a enough observations, your model might not generalize very well. "
   ]
  },
  {
   "cell_type": "markdown",
   "metadata": {
    "slideshow": {
     "slide_type": "slide"
    }
   },
   "source": [
    "**1.2. Imputing data**\n",
    "\n",
    "The alternative to dropping missing values is to assume what that data can be and impute it. Commonly used values for imputation are the measures of central tendency: mean, median, or mode. Mean is often used when there are no outliers in the data. Median is used when thera are outliers. Mode can be used when dealing with categorical data. An easy way to impute is by using `fillna()`."
   ]
  },
  {
   "cell_type": "code",
   "execution_count": 45,
   "metadata": {
    "ExecuteTime": {
     "end_time": "2020-12-30T13:13:11.612974Z",
     "start_time": "2020-12-30T13:13:11.393299Z"
    }
   },
   "outputs": [],
   "source": [
    "df_retail_impute = df_retail.copy()"
   ]
  },
  {
   "cell_type": "code",
   "execution_count": 46,
   "metadata": {
    "ExecuteTime": {
     "end_time": "2020-12-30T15:50:09.176612Z",
     "start_time": "2020-12-30T15:50:08.599973Z"
    }
   },
   "outputs": [
    {
     "data": {
      "image/png": "[encoded data removed]",
      "text/plain": [
       "<Figure size 576x432 with 1 Axes>"
      ]
     },
     "metadata": {
      "needs_background": "light"
     },
     "output_type": "display_data"
    }
   ],
   "source": [
    "# What should we use to impute?\n",
    "\n",
    "# Plotting with matplotlib\n",
    "plt.figure(figsize=(8,6))\n",
    "plt.hist(df_retail_impute[\"UnitPrice\"]) # Main code for creating the plot\n",
    "plt.title('Distribution of Unit Price')\n",
    "plt.show();"
   ]
  },
  {
   "cell_type": "code",
   "execution_count": 16,
   "metadata": {},
   "outputs": [
    {
     "data": {
      "image/png": "[encoded data removed]",
      "text/plain": [
       "<Figure size 576x432 with 1 Axes>"
      ]
     },
     "metadata": {
      "needs_background": "light"
     },
     "output_type": "display_data"
    }
   ],
   "source": [
    "# Zooming in\n",
    "plt.figure(figsize=(8,6))\n",
    "plt.hist(df_retail_impute[\"UnitPrice\"]) # Main code for creating the plot\n",
    "plt.title('Distribution of Unit Price')\n",
    "plt.ylim(0, 100)\n",
    "plt.show();"
   ]
  },
  {
   "cell_type": "markdown",
   "metadata": {},
   "source": [
    "## What should we use to impute?\n",
    "plt.hist(df_retail_impute[\"UnitPrice\"])\n",
    "plt.ylim(0,500)\n",
    "plt.show();"
   ]
  },
  {
   "cell_type": "code",
   "execution_count": 17,
   "metadata": {
    "ExecuteTime": {
     "end_time": "2020-12-30T15:53:11.477960Z",
     "start_time": "2020-12-30T15:53:11.459325Z"
    }
   },
   "outputs": [
    {
     "name": "stdout",
     "output_type": "stream",
     "text": [
      "Mean: 4.611352350826424\n",
      "Median: 2.08\n"
     ]
    }
   ],
   "source": [
    "print(f'Mean: {df_retail[\"UnitPrice\"].mean()}')\n",
    "print(f'Median: {df_retail[\"UnitPrice\"].median()}')"
   ]
  },
  {
   "cell_type": "code",
   "execution_count": 18,
   "metadata": {
    "ExecuteTime": {
     "end_time": "2020-12-30T13:13:11.792331Z",
     "start_time": "2020-12-30T13:13:11.619424Z"
    },
    "slideshow": {
     "slide_type": "fragment"
    }
   },
   "outputs": [
    {
     "data": {
      "text/plain": [
       "InvoiceNo              0\n",
       "StockCode              0\n",
       "Description         1454\n",
       "Quantity               0\n",
       "InvoiceDate            0\n",
       "UnitPrice              0\n",
       "CustomerID        135080\n",
       "Country                0\n",
       "DaysLastBought         0\n",
       "dtype: int64"
      ]
     },
     "execution_count": 18,
     "metadata": {},
     "output_type": "execute_result"
    }
   ],
   "source": [
    "# Fill Nan with median value\n",
    "df_retail_impute[\"UnitPrice\"] = df_retail_impute[\"UnitPrice\"].fillna(df_retail_impute[\"UnitPrice\"].median())\n",
    "df_retail_impute.isna().sum()"
   ]
  },
  {
   "cell_type": "markdown",
   "metadata": {},
   "source": [
    "How do we know if we should drop or impute? One way to do so is to check the difference across the difference summary statistics between the two methods."
   ]
  },
  {
   "cell_type": "code",
   "execution_count": 19,
   "metadata": {
    "ExecuteTime": {
     "end_time": "2020-12-30T13:13:12.290241Z",
     "start_time": "2020-12-30T13:13:11.800223Z"
    },
    "slideshow": {
     "slide_type": "slide"
    }
   },
   "outputs": [
    {
     "data": {
      "text/html": [
       "<div>\n",
       "<style scoped>\n",
       "    .dataframe tbody tr th:only-of-type {\n",
       "        vertical-align: middle;\n",
       "    }\n",
       "\n",
       "    .dataframe tbody tr th {\n",
       "        vertical-align: top;\n",
       "    }\n",
       "\n",
       "    .dataframe thead th {\n",
       "        text-align: right;\n",
       "    }\n",
       "</style>\n",
       "<table border=\"1\" class=\"dataframe\">\n",
       "  <thead>\n",
       "    <tr style=\"text-align: right;\">\n",
       "      <th></th>\n",
       "      <th>Quantity</th>\n",
       "      <th>UnitPrice</th>\n",
       "      <th>CustomerID</th>\n",
       "      <th>DaysLastBought</th>\n",
       "    </tr>\n",
       "  </thead>\n",
       "  <tbody>\n",
       "    <tr>\n",
       "      <th>count</th>\n",
       "      <td>406791.000000</td>\n",
       "      <td>406791.000000</td>\n",
       "      <td>406791.000000</td>\n",
       "      <td>406791.000000</td>\n",
       "    </tr>\n",
       "    <tr>\n",
       "      <th>mean</th>\n",
       "      <td>12.058875</td>\n",
       "      <td>3.460618</td>\n",
       "      <td>15287.667741</td>\n",
       "      <td>151.308591</td>\n",
       "    </tr>\n",
       "    <tr>\n",
       "      <th>std</th>\n",
       "      <td>248.703059</td>\n",
       "      <td>69.318396</td>\n",
       "      <td>1713.604052</td>\n",
       "      <td>112.860951</td>\n",
       "    </tr>\n",
       "    <tr>\n",
       "      <th>min</th>\n",
       "      <td>-80995.000000</td>\n",
       "      <td>0.000000</td>\n",
       "      <td>12346.000000</td>\n",
       "      <td>0.000000</td>\n",
       "    </tr>\n",
       "    <tr>\n",
       "      <th>25%</th>\n",
       "      <td>2.000000</td>\n",
       "      <td>1.250000</td>\n",
       "      <td>13953.000000</td>\n",
       "      <td>49.000000</td>\n",
       "    </tr>\n",
       "    <tr>\n",
       "      <th>50%</th>\n",
       "      <td>5.000000</td>\n",
       "      <td>1.950000</td>\n",
       "      <td>15152.000000</td>\n",
       "      <td>131.000000</td>\n",
       "    </tr>\n",
       "    <tr>\n",
       "      <th>75%</th>\n",
       "      <td>12.000000</td>\n",
       "      <td>3.750000</td>\n",
       "      <td>16791.000000</td>\n",
       "      <td>246.000000</td>\n",
       "    </tr>\n",
       "    <tr>\n",
       "      <th>max</th>\n",
       "      <td>80995.000000</td>\n",
       "      <td>38970.000000</td>\n",
       "      <td>18287.000000</td>\n",
       "      <td>373.000000</td>\n",
       "    </tr>\n",
       "  </tbody>\n",
       "</table>\n",
       "</div>"
      ],
      "text/plain": [
       "            Quantity      UnitPrice     CustomerID  DaysLastBought\n",
       "count  406791.000000  406791.000000  406791.000000   406791.000000\n",
       "mean       12.058875       3.460618   15287.667741      151.308591\n",
       "std       248.703059      69.318396    1713.604052      112.860951\n",
       "min    -80995.000000       0.000000   12346.000000        0.000000\n",
       "25%         2.000000       1.250000   13953.000000       49.000000\n",
       "50%         5.000000       1.950000   15152.000000      131.000000\n",
       "75%        12.000000       3.750000   16791.000000      246.000000\n",
       "max     80995.000000   38970.000000   18287.000000      373.000000"
      ]
     },
     "execution_count": 19,
     "metadata": {},
     "output_type": "execute_result"
    }
   ],
   "source": [
    "# Summary statistics if missing values were dropped\n",
    "df_retail.dropna().describe() "
   ]
  },
  {
   "cell_type": "code",
   "execution_count": 20,
   "metadata": {
    "ExecuteTime": {
     "end_time": "2020-12-30T13:13:28.105936Z",
     "start_time": "2020-12-30T13:13:27.821146Z"
    },
    "slideshow": {
     "slide_type": "slide"
    }
   },
   "outputs": [
    {
     "data": {
      "text/html": [
       "<div>\n",
       "<style scoped>\n",
       "    .dataframe tbody tr th:only-of-type {\n",
       "        vertical-align: middle;\n",
       "    }\n",
       "\n",
       "    .dataframe tbody tr th {\n",
       "        vertical-align: top;\n",
       "    }\n",
       "\n",
       "    .dataframe thead th {\n",
       "        text-align: right;\n",
       "    }\n",
       "</style>\n",
       "<table border=\"1\" class=\"dataframe\">\n",
       "  <thead>\n",
       "    <tr style=\"text-align: right;\">\n",
       "      <th></th>\n",
       "      <th>Quantity</th>\n",
       "      <th>UnitPrice</th>\n",
       "      <th>CustomerID</th>\n",
       "      <th>DaysLastBought</th>\n",
       "    </tr>\n",
       "  </thead>\n",
       "  <tbody>\n",
       "    <tr>\n",
       "      <th>count</th>\n",
       "      <td>406829.000000</td>\n",
       "      <td>406829.000000</td>\n",
       "      <td>406829.000000</td>\n",
       "      <td>406829.000000</td>\n",
       "    </tr>\n",
       "    <tr>\n",
       "      <th>mean</th>\n",
       "      <td>12.061303</td>\n",
       "      <td>3.460489</td>\n",
       "      <td>15287.690570</td>\n",
       "      <td>151.316074</td>\n",
       "    </tr>\n",
       "    <tr>\n",
       "      <th>std</th>\n",
       "      <td>248.693370</td>\n",
       "      <td>69.315160</td>\n",
       "      <td>1713.600303</td>\n",
       "      <td>112.869646</td>\n",
       "    </tr>\n",
       "    <tr>\n",
       "      <th>min</th>\n",
       "      <td>-80995.000000</td>\n",
       "      <td>0.000000</td>\n",
       "      <td>12346.000000</td>\n",
       "      <td>0.000000</td>\n",
       "    </tr>\n",
       "    <tr>\n",
       "      <th>25%</th>\n",
       "      <td>2.000000</td>\n",
       "      <td>1.250000</td>\n",
       "      <td>13953.000000</td>\n",
       "      <td>49.000000</td>\n",
       "    </tr>\n",
       "    <tr>\n",
       "      <th>50%</th>\n",
       "      <td>5.000000</td>\n",
       "      <td>1.950000</td>\n",
       "      <td>15152.000000</td>\n",
       "      <td>131.000000</td>\n",
       "    </tr>\n",
       "    <tr>\n",
       "      <th>75%</th>\n",
       "      <td>12.000000</td>\n",
       "      <td>3.750000</td>\n",
       "      <td>16791.000000</td>\n",
       "      <td>246.000000</td>\n",
       "    </tr>\n",
       "    <tr>\n",
       "      <th>max</th>\n",
       "      <td>80995.000000</td>\n",
       "      <td>38970.000000</td>\n",
       "      <td>18287.000000</td>\n",
       "      <td>373.000000</td>\n",
       "    </tr>\n",
       "  </tbody>\n",
       "</table>\n",
       "</div>"
      ],
      "text/plain": [
       "            Quantity      UnitPrice     CustomerID  DaysLastBought\n",
       "count  406829.000000  406829.000000  406829.000000   406829.000000\n",
       "mean       12.061303       3.460489   15287.690570      151.316074\n",
       "std       248.693370      69.315160    1713.600303      112.869646\n",
       "min    -80995.000000       0.000000   12346.000000        0.000000\n",
       "25%         2.000000       1.250000   13953.000000       49.000000\n",
       "50%         5.000000       1.950000   15152.000000      131.000000\n",
       "75%        12.000000       3.750000   16791.000000      246.000000\n",
       "max     80995.000000   38970.000000   18287.000000      373.000000"
      ]
     },
     "execution_count": 20,
     "metadata": {},
     "output_type": "execute_result"
    }
   ],
   "source": [
    "# Summary statistics if missing values were imputed\n",
    "df_retail_impute.dropna(inplace=True)\n",
    "df_retail_impute.describe()"
   ]
  },
  {
   "cell_type": "markdown",
   "metadata": {},
   "source": [
    "In this case, the difference between dropping and imputing can be seen but is very minimal. "
   ]
  },
  {
   "cell_type": "markdown",
   "metadata": {
    "ExecuteTime": {
     "end_time": "2020-12-30T11:41:49.486511Z",
     "start_time": "2020-12-30T11:41:49.440723Z"
    }
   },
   "source": [
    "***1.3 Correcting data types***\n",
    "\n",
    "We observed the `CustomerID` is currently read as a float with one decimal place. However, recall that our goal is to be able to segment customers. Hence, the CustomerID must be read as a discrete and not a continuous variable. We can convert this to string to achieve this."
   ]
  },
  {
   "cell_type": "code",
   "execution_count": 21,
   "metadata": {
    "ExecuteTime": {
     "end_time": "2020-12-30T13:13:35.195588Z",
     "start_time": "2020-12-30T13:13:34.570004Z"
    },
    "scrolled": true
   },
   "outputs": [
    {
     "name": "stdout",
     "output_type": "stream",
     "text": [
      "<class 'pandas.core.frame.DataFrame'>\n",
      "Int64Index: 406829 entries, 0 to 541908\n",
      "Data columns (total 9 columns):\n",
      " #   Column          Non-Null Count   Dtype         \n",
      "---  ------          --------------   -----         \n",
      " 0   InvoiceNo       406829 non-null  object        \n",
      " 1   StockCode       406829 non-null  object        \n",
      " 2   Description     406829 non-null  object        \n",
      " 3   Quantity        406829 non-null  int64         \n",
      " 4   InvoiceDate     406829 non-null  datetime64[ns]\n",
      " 5   UnitPrice       406829 non-null  float64       \n",
      " 6   CustomerID      406829 non-null  object        \n",
      " 7   Country         406829 non-null  object        \n",
      " 8   DaysLastBought  406829 non-null  int64         \n",
      "dtypes: datetime64[ns](1), float64(1), int64(2), object(5)\n",
      "memory usage: 31.0+ MB\n"
     ]
    }
   ],
   "source": [
    "df_retail_impute['CustomerID'] = df_retail_impute['CustomerID'].astype(str)\n",
    "df_retail_impute.info()"
   ]
  },
  {
   "cell_type": "code",
   "execution_count": 22,
   "metadata": {
    "ExecuteTime": {
     "end_time": "2020-12-30T13:13:37.107912Z",
     "start_time": "2020-12-30T13:13:37.083906Z"
    }
   },
   "outputs": [
    {
     "data": {
      "text/html": [
       "<div>\n",
       "<style scoped>\n",
       "    .dataframe tbody tr th:only-of-type {\n",
       "        vertical-align: middle;\n",
       "    }\n",
       "\n",
       "    .dataframe tbody tr th {\n",
       "        vertical-align: top;\n",
       "    }\n",
       "\n",
       "    .dataframe thead th {\n",
       "        text-align: right;\n",
       "    }\n",
       "</style>\n",
       "<table border=\"1\" class=\"dataframe\">\n",
       "  <thead>\n",
       "    <tr style=\"text-align: right;\">\n",
       "      <th></th>\n",
       "      <th>InvoiceNo</th>\n",
       "      <th>StockCode</th>\n",
       "      <th>Description</th>\n",
       "      <th>Quantity</th>\n",
       "      <th>InvoiceDate</th>\n",
       "      <th>UnitPrice</th>\n",
       "      <th>CustomerID</th>\n",
       "      <th>Country</th>\n",
       "      <th>DaysLastBought</th>\n",
       "    </tr>\n",
       "  </thead>\n",
       "  <tbody>\n",
       "    <tr>\n",
       "      <th>0</th>\n",
       "      <td>536365</td>\n",
       "      <td>85123A</td>\n",
       "      <td>WHITE HANGING HEART T-LIGHT HOLDER</td>\n",
       "      <td>6</td>\n",
       "      <td>2010-12-01 08:26:00</td>\n",
       "      <td>2.55</td>\n",
       "      <td>17850.0</td>\n",
       "      <td>United Kingdom</td>\n",
       "      <td>373</td>\n",
       "    </tr>\n",
       "    <tr>\n",
       "      <th>1</th>\n",
       "      <td>536365</td>\n",
       "      <td>71053</td>\n",
       "      <td>WHITE METAL LANTERN</td>\n",
       "      <td>6</td>\n",
       "      <td>2010-12-01 08:26:00</td>\n",
       "      <td>3.39</td>\n",
       "      <td>17850.0</td>\n",
       "      <td>United Kingdom</td>\n",
       "      <td>373</td>\n",
       "    </tr>\n",
       "    <tr>\n",
       "      <th>2</th>\n",
       "      <td>536365</td>\n",
       "      <td>84406B</td>\n",
       "      <td>CREAM CUPID HEARTS COAT HANGER</td>\n",
       "      <td>8</td>\n",
       "      <td>2010-12-01 08:26:00</td>\n",
       "      <td>2.75</td>\n",
       "      <td>17850.0</td>\n",
       "      <td>United Kingdom</td>\n",
       "      <td>373</td>\n",
       "    </tr>\n",
       "    <tr>\n",
       "      <th>3</th>\n",
       "      <td>536365</td>\n",
       "      <td>84029G</td>\n",
       "      <td>KNITTED UNION FLAG HOT WATER BOTTLE</td>\n",
       "      <td>6</td>\n",
       "      <td>2010-12-01 08:26:00</td>\n",
       "      <td>3.39</td>\n",
       "      <td>17850.0</td>\n",
       "      <td>United Kingdom</td>\n",
       "      <td>373</td>\n",
       "    </tr>\n",
       "    <tr>\n",
       "      <th>4</th>\n",
       "      <td>536365</td>\n",
       "      <td>84029E</td>\n",
       "      <td>RED WOOLLY HOTTIE WHITE HEART.</td>\n",
       "      <td>6</td>\n",
       "      <td>2010-12-01 08:26:00</td>\n",
       "      <td>3.39</td>\n",
       "      <td>17850.0</td>\n",
       "      <td>United Kingdom</td>\n",
       "      <td>373</td>\n",
       "    </tr>\n",
       "  </tbody>\n",
       "</table>\n",
       "</div>"
      ],
      "text/plain": [
       "  InvoiceNo StockCode                          Description  Quantity  \\\n",
       "0    536365    85123A   WHITE HANGING HEART T-LIGHT HOLDER         6   \n",
       "1    536365     71053                  WHITE METAL LANTERN         6   \n",
       "2    536365    84406B       CREAM CUPID HEARTS COAT HANGER         8   \n",
       "3    536365    84029G  KNITTED UNION FLAG HOT WATER BOTTLE         6   \n",
       "4    536365    84029E       RED WOOLLY HOTTIE WHITE HEART.         6   \n",
       "\n",
       "          InvoiceDate  UnitPrice CustomerID         Country  DaysLastBought  \n",
       "0 2010-12-01 08:26:00       2.55    17850.0  United Kingdom             373  \n",
       "1 2010-12-01 08:26:00       3.39    17850.0  United Kingdom             373  \n",
       "2 2010-12-01 08:26:00       2.75    17850.0  United Kingdom             373  \n",
       "3 2010-12-01 08:26:00       3.39    17850.0  United Kingdom             373  \n",
       "4 2010-12-01 08:26:00       3.39    17850.0  United Kingdom             373  "
      ]
     },
     "execution_count": 22,
     "metadata": {},
     "output_type": "execute_result"
    }
   ],
   "source": [
    "df_retail_impute.head()"
   ]
  },
  {
   "cell_type": "code",
   "execution_count": 23,
   "metadata": {
    "ExecuteTime": {
     "end_time": "2020-12-30T13:13:39.658833Z",
     "start_time": "2020-12-30T13:13:39.158395Z"
    }
   },
   "outputs": [
    {
     "data": {
      "text/html": [
       "<div>\n",
       "<style scoped>\n",
       "    .dataframe tbody tr th:only-of-type {\n",
       "        vertical-align: middle;\n",
       "    }\n",
       "\n",
       "    .dataframe tbody tr th {\n",
       "        vertical-align: top;\n",
       "    }\n",
       "\n",
       "    .dataframe thead th {\n",
       "        text-align: right;\n",
       "    }\n",
       "</style>\n",
       "<table border=\"1\" class=\"dataframe\">\n",
       "  <thead>\n",
       "    <tr style=\"text-align: right;\">\n",
       "      <th></th>\n",
       "      <th>InvoiceNo</th>\n",
       "      <th>StockCode</th>\n",
       "      <th>Description</th>\n",
       "      <th>Quantity</th>\n",
       "      <th>InvoiceDate</th>\n",
       "      <th>UnitPrice</th>\n",
       "      <th>CustomerID</th>\n",
       "      <th>Country</th>\n",
       "      <th>DaysLastBought</th>\n",
       "    </tr>\n",
       "  </thead>\n",
       "  <tbody>\n",
       "    <tr>\n",
       "      <th>0</th>\n",
       "      <td>536365</td>\n",
       "      <td>85123A</td>\n",
       "      <td>WHITE HANGING HEART T-LIGHT HOLDER</td>\n",
       "      <td>6</td>\n",
       "      <td>2010-12-01 08:26:00</td>\n",
       "      <td>2.55</td>\n",
       "      <td>17850</td>\n",
       "      <td>United Kingdom</td>\n",
       "      <td>373</td>\n",
       "    </tr>\n",
       "    <tr>\n",
       "      <th>1</th>\n",
       "      <td>536365</td>\n",
       "      <td>71053</td>\n",
       "      <td>WHITE METAL LANTERN</td>\n",
       "      <td>6</td>\n",
       "      <td>2010-12-01 08:26:00</td>\n",
       "      <td>3.39</td>\n",
       "      <td>17850</td>\n",
       "      <td>United Kingdom</td>\n",
       "      <td>373</td>\n",
       "    </tr>\n",
       "    <tr>\n",
       "      <th>2</th>\n",
       "      <td>536365</td>\n",
       "      <td>84406B</td>\n",
       "      <td>CREAM CUPID HEARTS COAT HANGER</td>\n",
       "      <td>8</td>\n",
       "      <td>2010-12-01 08:26:00</td>\n",
       "      <td>2.75</td>\n",
       "      <td>17850</td>\n",
       "      <td>United Kingdom</td>\n",
       "      <td>373</td>\n",
       "    </tr>\n",
       "    <tr>\n",
       "      <th>3</th>\n",
       "      <td>536365</td>\n",
       "      <td>84029G</td>\n",
       "      <td>KNITTED UNION FLAG HOT WATER BOTTLE</td>\n",
       "      <td>6</td>\n",
       "      <td>2010-12-01 08:26:00</td>\n",
       "      <td>3.39</td>\n",
       "      <td>17850</td>\n",
       "      <td>United Kingdom</td>\n",
       "      <td>373</td>\n",
       "    </tr>\n",
       "    <tr>\n",
       "      <th>4</th>\n",
       "      <td>536365</td>\n",
       "      <td>84029E</td>\n",
       "      <td>RED WOOLLY HOTTIE WHITE HEART.</td>\n",
       "      <td>6</td>\n",
       "      <td>2010-12-01 08:26:00</td>\n",
       "      <td>3.39</td>\n",
       "      <td>17850</td>\n",
       "      <td>United Kingdom</td>\n",
       "      <td>373</td>\n",
       "    </tr>\n",
       "  </tbody>\n",
       "</table>\n",
       "</div>"
      ],
      "text/plain": [
       "  InvoiceNo StockCode                          Description  Quantity  \\\n",
       "0    536365    85123A   WHITE HANGING HEART T-LIGHT HOLDER         6   \n",
       "1    536365     71053                  WHITE METAL LANTERN         6   \n",
       "2    536365    84406B       CREAM CUPID HEARTS COAT HANGER         8   \n",
       "3    536365    84029G  KNITTED UNION FLAG HOT WATER BOTTLE         6   \n",
       "4    536365    84029E       RED WOOLLY HOTTIE WHITE HEART.         6   \n",
       "\n",
       "          InvoiceDate  UnitPrice CustomerID         Country  DaysLastBought  \n",
       "0 2010-12-01 08:26:00       2.55      17850  United Kingdom             373  \n",
       "1 2010-12-01 08:26:00       3.39      17850  United Kingdom             373  \n",
       "2 2010-12-01 08:26:00       2.75      17850  United Kingdom             373  \n",
       "3 2010-12-01 08:26:00       3.39      17850  United Kingdom             373  \n",
       "4 2010-12-01 08:26:00       3.39      17850  United Kingdom             373  "
      ]
     },
     "execution_count": 23,
     "metadata": {},
     "output_type": "execute_result"
    }
   ],
   "source": [
    "df_retail_impute['CustomerID'] = df_retail_impute['CustomerID'].replace('\\.0', '', regex=True)\n",
    "df_retail_impute.head()"
   ]
  },
  {
   "cell_type": "code",
   "execution_count": 24,
   "metadata": {
    "ExecuteTime": {
     "end_time": "2020-12-30T13:16:52.047720Z",
     "start_time": "2020-12-30T13:16:51.930630Z"
    }
   },
   "outputs": [],
   "source": [
    "retail_final = df_retail_impute.copy()"
   ]
  },
  {
   "cell_type": "markdown",
   "metadata": {
    "slideshow": {
     "slide_type": "slide"
    }
   },
   "source": [
    "### 2. Feature Engineering"
   ]
  },
  {
   "cell_type": "markdown",
   "metadata": {
    "slideshow": {
     "slide_type": "-"
    }
   },
   "source": [
    "As mentioned earlier, variables are called features in machine learning. Feature engineering is a term when we extract information from one variable to make new features. A common example is in handling dates. We can do feature engineering with dates to extract the years, months, days, etc. Here we will use feature engineering to obtain the RFM data.\n",
    "\n",
    "***2.1. Monetary value***\n",
    "- How much money a customer spends on purchases\n"
   ]
  },
  {
   "cell_type": "code",
   "execution_count": 25,
   "metadata": {
    "ExecuteTime": {
     "end_time": "2020-12-30T13:17:30.807984Z",
     "start_time": "2020-12-30T13:17:30.658663Z"
    }
   },
   "outputs": [
    {
     "data": {
      "text/html": [
       "<div>\n",
       "<style scoped>\n",
       "    .dataframe tbody tr th:only-of-type {\n",
       "        vertical-align: middle;\n",
       "    }\n",
       "\n",
       "    .dataframe tbody tr th {\n",
       "        vertical-align: top;\n",
       "    }\n",
       "\n",
       "    .dataframe thead th {\n",
       "        text-align: right;\n",
       "    }\n",
       "</style>\n",
       "<table border=\"1\" class=\"dataframe\">\n",
       "  <thead>\n",
       "    <tr style=\"text-align: right;\">\n",
       "      <th></th>\n",
       "      <th>CustomerID</th>\n",
       "      <th>Amount</th>\n",
       "    </tr>\n",
       "  </thead>\n",
       "  <tbody>\n",
       "    <tr>\n",
       "      <th>0</th>\n",
       "      <td>12346</td>\n",
       "      <td>0.00</td>\n",
       "    </tr>\n",
       "    <tr>\n",
       "      <th>1</th>\n",
       "      <td>12347</td>\n",
       "      <td>4310.00</td>\n",
       "    </tr>\n",
       "    <tr>\n",
       "      <th>2</th>\n",
       "      <td>12348</td>\n",
       "      <td>1797.24</td>\n",
       "    </tr>\n",
       "    <tr>\n",
       "      <th>3</th>\n",
       "      <td>12349</td>\n",
       "      <td>1757.55</td>\n",
       "    </tr>\n",
       "    <tr>\n",
       "      <th>4</th>\n",
       "      <td>12350</td>\n",
       "      <td>334.40</td>\n",
       "    </tr>\n",
       "  </tbody>\n",
       "</table>\n",
       "</div>"
      ],
      "text/plain": [
       "  CustomerID   Amount\n",
       "0      12346     0.00\n",
       "1      12347  4310.00\n",
       "2      12348  1797.24\n",
       "3      12349  1757.55\n",
       "4      12350   334.40"
      ]
     },
     "execution_count": 25,
     "metadata": {},
     "output_type": "execute_result"
    }
   ],
   "source": [
    "# Syntax to create new column\n",
    "retail_final['Amount'] = retail_final['Quantity']*df_retail['UnitPrice']\n",
    "\n",
    "# Groupby aggregates value according to a defined category\n",
    "rfm_m = retail_final.groupby('CustomerID')['Amount'].sum()\n",
    "rfm_m = rfm_m.reset_index()\n",
    "rfm_m.head()"
   ]
  },
  {
   "cell_type": "markdown",
   "metadata": {},
   "source": [
    "***2.2. Frequency***\n",
    "- How often a customer makes a purchase"
   ]
  },
  {
   "cell_type": "code",
   "execution_count": 26,
   "metadata": {
    "ExecuteTime": {
     "end_time": "2020-12-30T13:18:00.651182Z",
     "start_time": "2020-12-30T13:18:00.549554Z"
    }
   },
   "outputs": [
    {
     "data": {
      "text/html": [
       "<div>\n",
       "<style scoped>\n",
       "    .dataframe tbody tr th:only-of-type {\n",
       "        vertical-align: middle;\n",
       "    }\n",
       "\n",
       "    .dataframe tbody tr th {\n",
       "        vertical-align: top;\n",
       "    }\n",
       "\n",
       "    .dataframe thead th {\n",
       "        text-align: right;\n",
       "    }\n",
       "</style>\n",
       "<table border=\"1\" class=\"dataframe\">\n",
       "  <thead>\n",
       "    <tr style=\"text-align: right;\">\n",
       "      <th></th>\n",
       "      <th>CustomerID</th>\n",
       "      <th>Frequency</th>\n",
       "    </tr>\n",
       "  </thead>\n",
       "  <tbody>\n",
       "    <tr>\n",
       "      <th>0</th>\n",
       "      <td>12346</td>\n",
       "      <td>2</td>\n",
       "    </tr>\n",
       "    <tr>\n",
       "      <th>1</th>\n",
       "      <td>12347</td>\n",
       "      <td>182</td>\n",
       "    </tr>\n",
       "    <tr>\n",
       "      <th>2</th>\n",
       "      <td>12348</td>\n",
       "      <td>31</td>\n",
       "    </tr>\n",
       "    <tr>\n",
       "      <th>3</th>\n",
       "      <td>12349</td>\n",
       "      <td>73</td>\n",
       "    </tr>\n",
       "    <tr>\n",
       "      <th>4</th>\n",
       "      <td>12350</td>\n",
       "      <td>17</td>\n",
       "    </tr>\n",
       "  </tbody>\n",
       "</table>\n",
       "</div>"
      ],
      "text/plain": [
       "  CustomerID  Frequency\n",
       "0      12346          2\n",
       "1      12347        182\n",
       "2      12348         31\n",
       "3      12349         73\n",
       "4      12350         17"
      ]
     },
     "execution_count": 26,
     "metadata": {},
     "output_type": "execute_result"
    }
   ],
   "source": [
    "rfm_f = retail_final.groupby('CustomerID')['InvoiceNo'].count()\n",
    "rfm_f = rfm_f.reset_index()\n",
    "rfm_f.columns = ['CustomerID', 'Frequency']\n",
    "rfm_f.head()"
   ]
  },
  {
   "cell_type": "markdown",
   "metadata": {},
   "source": [
    "***2.3. Recency***\n",
    "- How recently a customer has made a purchase"
   ]
  },
  {
   "cell_type": "code",
   "execution_count": 27,
   "metadata": {
    "ExecuteTime": {
     "end_time": "2020-12-30T13:18:54.922809Z",
     "start_time": "2020-12-30T13:18:54.836955Z"
    }
   },
   "outputs": [
    {
     "data": {
      "text/html": [
       "<div>\n",
       "<style scoped>\n",
       "    .dataframe tbody tr th:only-of-type {\n",
       "        vertical-align: middle;\n",
       "    }\n",
       "\n",
       "    .dataframe tbody tr th {\n",
       "        vertical-align: top;\n",
       "    }\n",
       "\n",
       "    .dataframe thead th {\n",
       "        text-align: right;\n",
       "    }\n",
       "</style>\n",
       "<table border=\"1\" class=\"dataframe\">\n",
       "  <thead>\n",
       "    <tr style=\"text-align: right;\">\n",
       "      <th></th>\n",
       "      <th>CustomerID</th>\n",
       "      <th>DaysLastBought</th>\n",
       "    </tr>\n",
       "  </thead>\n",
       "  <tbody>\n",
       "    <tr>\n",
       "      <th>0</th>\n",
       "      <td>12346</td>\n",
       "      <td>325</td>\n",
       "    </tr>\n",
       "    <tr>\n",
       "      <th>1</th>\n",
       "      <td>12347</td>\n",
       "      <td>1</td>\n",
       "    </tr>\n",
       "    <tr>\n",
       "      <th>2</th>\n",
       "      <td>12348</td>\n",
       "      <td>74</td>\n",
       "    </tr>\n",
       "    <tr>\n",
       "      <th>3</th>\n",
       "      <td>12349</td>\n",
       "      <td>18</td>\n",
       "    </tr>\n",
       "    <tr>\n",
       "      <th>4</th>\n",
       "      <td>12350</td>\n",
       "      <td>309</td>\n",
       "    </tr>\n",
       "  </tbody>\n",
       "</table>\n",
       "</div>"
      ],
      "text/plain": [
       "  CustomerID  DaysLastBought\n",
       "0      12346             325\n",
       "1      12347               1\n",
       "2      12348              74\n",
       "3      12349              18\n",
       "4      12350             309"
      ]
     },
     "execution_count": 27,
     "metadata": {},
     "output_type": "execute_result"
    }
   ],
   "source": [
    "rfm_r = retail_final.groupby('CustomerID')['DaysLastBought'].min()\n",
    "rfm_r = rfm_r.reset_index()\n",
    "rfm_r.head()"
   ]
  },
  {
   "cell_type": "markdown",
   "metadata": {
    "ExecuteTime": {
     "end_time": "2020-12-30T15:57:09.434060Z",
     "start_time": "2020-12-30T15:57:09.428183Z"
    }
   },
   "source": [
    "#### Creating the rfm dataframe"
   ]
  },
  {
   "cell_type": "code",
   "execution_count": 28,
   "metadata": {
    "ExecuteTime": {
     "end_time": "2020-12-30T13:19:59.343237Z",
     "start_time": "2020-12-30T13:19:59.291331Z"
    }
   },
   "outputs": [
    {
     "data": {
      "text/html": [
       "<div>\n",
       "<style scoped>\n",
       "    .dataframe tbody tr th:only-of-type {\n",
       "        vertical-align: middle;\n",
       "    }\n",
       "\n",
       "    .dataframe tbody tr th {\n",
       "        vertical-align: top;\n",
       "    }\n",
       "\n",
       "    .dataframe thead th {\n",
       "        text-align: right;\n",
       "    }\n",
       "</style>\n",
       "<table border=\"1\" class=\"dataframe\">\n",
       "  <thead>\n",
       "    <tr style=\"text-align: right;\">\n",
       "      <th></th>\n",
       "      <th>CustomerID</th>\n",
       "      <th>Amount</th>\n",
       "      <th>Frequency</th>\n",
       "      <th>Recency</th>\n",
       "    </tr>\n",
       "  </thead>\n",
       "  <tbody>\n",
       "    <tr>\n",
       "      <th>0</th>\n",
       "      <td>12346</td>\n",
       "      <td>0.00</td>\n",
       "      <td>2</td>\n",
       "      <td>325</td>\n",
       "    </tr>\n",
       "    <tr>\n",
       "      <th>1</th>\n",
       "      <td>12347</td>\n",
       "      <td>4310.00</td>\n",
       "      <td>182</td>\n",
       "      <td>1</td>\n",
       "    </tr>\n",
       "    <tr>\n",
       "      <th>2</th>\n",
       "      <td>12348</td>\n",
       "      <td>1797.24</td>\n",
       "      <td>31</td>\n",
       "      <td>74</td>\n",
       "    </tr>\n",
       "    <tr>\n",
       "      <th>3</th>\n",
       "      <td>12349</td>\n",
       "      <td>1757.55</td>\n",
       "      <td>73</td>\n",
       "      <td>18</td>\n",
       "    </tr>\n",
       "    <tr>\n",
       "      <th>4</th>\n",
       "      <td>12350</td>\n",
       "      <td>334.40</td>\n",
       "      <td>17</td>\n",
       "      <td>309</td>\n",
       "    </tr>\n",
       "  </tbody>\n",
       "</table>\n",
       "</div>"
      ],
      "text/plain": [
       "  CustomerID   Amount  Frequency  Recency\n",
       "0      12346     0.00          2      325\n",
       "1      12347  4310.00        182        1\n",
       "2      12348  1797.24         31       74\n",
       "3      12349  1757.55         73       18\n",
       "4      12350   334.40         17      309"
      ]
     },
     "execution_count": 28,
     "metadata": {},
     "output_type": "execute_result"
    }
   ],
   "source": [
    "rfm = pd.merge(rfm_m, rfm_f, on='CustomerID', how='inner')\n",
    "rfm = pd.merge(rfm, rfm_r, on='CustomerID', how='inner')\n",
    "rfm.columns = ['CustomerID', 'Amount', 'Frequency', 'Recency']\n",
    "rfm.head()"
   ]
  },
  {
   "cell_type": "code",
   "execution_count": 29,
   "metadata": {
    "ExecuteTime": {
     "end_time": "2020-12-30T15:57:24.725519Z",
     "start_time": "2020-12-30T15:57:24.710097Z"
    }
   },
   "outputs": [
    {
     "data": {
      "text/plain": [
       "(4372, 4)"
      ]
     },
     "execution_count": 29,
     "metadata": {},
     "output_type": "execute_result"
    }
   ],
   "source": [
    "rfm.shape"
   ]
  },
  {
   "cell_type": "markdown",
   "metadata": {
    "slideshow": {
     "slide_type": "slide"
    }
   },
   "source": [
    "### 3. Handling Outliers\n",
    "- How do we identify outliers? The easiest way is to try to visualize the data using a boxplot. Let's drop batch and target since these are not continuous variables."
   ]
  },
  {
   "cell_type": "code",
   "execution_count": 30,
   "metadata": {
    "ExecuteTime": {
     "end_time": "2020-12-30T13:21:48.607459Z",
     "start_time": "2020-12-30T13:21:48.258144Z"
    },
    "scrolled": false,
    "slideshow": {
     "slide_type": "slide"
    }
   },
   "outputs": [
    {
     "data": {
      "text/plain": [
       "<AxesSubplot:>"
      ]
     },
     "execution_count": 30,
     "metadata": {},
     "output_type": "execute_result"
    },
    {
     "data": {
      "image/png": "[encoded data removed]",
      "text/plain": [
       "<Figure size 1080x576 with 1 Axes>"
      ]
     },
     "metadata": {
      "needs_background": "light"
     },
     "output_type": "display_data"
    }
   ],
   "source": [
    "# One way to check is with the use of a boxplot. \n",
    "fig, ax = plt.subplots(figsize = (15, 8))\n",
    "sns.boxplot(data=rfm.drop([\"CustomerID\"], axis=1))"
   ]
  },
  {
   "cell_type": "markdown",
   "metadata": {},
   "source": [
    "Outliers, statistically are defined as those outside the interquartile range. As expected, features that are about money usually have outliers. "
   ]
  },
  {
   "cell_type": "code",
   "execution_count": 31,
   "metadata": {
    "ExecuteTime": {
     "end_time": "2020-12-30T13:22:44.527689Z",
     "start_time": "2020-12-30T13:22:44.487758Z"
    }
   },
   "outputs": [],
   "source": [
    "# Insert code here\n",
    "# Removing (statistical) outliers for Amount\n",
    "Q1 = rfm.Amount.quantile(0.05)\n",
    "Q3 = rfm.Amount.quantile(0.95)\n",
    "IQR = Q3 - Q1\n",
    "rfm = rfm[(rfm.Amount >= Q1 - 1.5*IQR) & (rfm.Amount <= Q3 + 1.5*IQR)]\n",
    "\n",
    "# Removing (statistical) outliers for Recency\n",
    "Q1 = rfm.Recency.quantile(0.05)\n",
    "Q3 = rfm.Recency.quantile(0.95)\n",
    "IQR = Q3 - Q1\n",
    "rfm = rfm[(rfm.Recency >= Q1 - 1.5*IQR) & (rfm.Recency <= Q3 + 1.5*IQR)]\n",
    "\n",
    "# Removing (statistical) outliers for Frequency\n",
    "Q1 = rfm.Frequency.quantile(0.05)\n",
    "Q3 = rfm.Frequency.quantile(0.95)\n",
    "IQR = Q3 - Q1\n",
    "rfm = rfm[(rfm.Frequency >= Q1 - 1.5*IQR) & (rfm.Frequency <= Q3 + 1.5*IQR)]\n"
   ]
  },
  {
   "cell_type": "markdown",
   "metadata": {},
   "source": [
    "### 4. Scaling\n",
    "\n",
    "Most of the time, such as in our data, features contain different magnitudes, units and ranges. For most models, distance plays a factor when running the algorithm. Without scaling, features with high magnitudes will weigh in a lot more in the distance calculations than features with low magnitudes.\n",
    "\n",
    "\n",
    "The StandardScaler from Scikit-learn standardizes the dataset by reducing everything to the number of standard deviations that the value is from the mean."
   ]
  },
  {
   "cell_type": "code",
   "execution_count": 32,
   "metadata": {
    "ExecuteTime": {
     "end_time": "2020-12-30T13:34:06.921916Z",
     "start_time": "2020-12-30T13:34:06.848050Z"
    }
   },
   "outputs": [
    {
     "data": {
      "text/plain": [
       "(4293, 3)"
      ]
     },
     "execution_count": 32,
     "metadata": {},
     "output_type": "execute_result"
    }
   ],
   "source": [
    "# Rescaling the attributes\n",
    "from sklearn.preprocessing import StandardScaler\n",
    "rfm_df = rfm[['Amount', 'Frequency', 'Recency']]\n",
    "\n",
    "# Instantiate\n",
    "scaler = StandardScaler()\n",
    "\n",
    "# fit_transform\n",
    "rfm_df_scaled = scaler.fit_transform(rfm_df)\n",
    "rfm_df_scaled.shape"
   ]
  },
  {
   "cell_type": "code",
   "execution_count": 33,
   "metadata": {
    "ExecuteTime": {
     "end_time": "2020-12-30T16:10:34.786841Z",
     "start_time": "2020-12-30T16:10:34.177575Z"
    }
   },
   "outputs": [
    {
     "data": {
      "image/png": "[encoded data removed]",
      "text/plain": [
       "<Figure size 1152x360 with 3 Axes>"
      ]
     },
     "metadata": {
      "needs_background": "light"
     },
     "output_type": "display_data"
    }
   ],
   "source": [
    "fig, axes = plt.subplots(ncols = 3, figsize=(16,5))\n",
    "\n",
    "rfm_df.hist(ax=[axes[0], axes[1], axes[2]])\n",
    "plt.show();"
   ]
  },
  {
   "cell_type": "code",
   "execution_count": 34,
   "metadata": {
    "ExecuteTime": {
     "end_time": "2020-12-30T16:06:32.854755Z",
     "start_time": "2020-12-30T16:06:32.305564Z"
    },
    "scrolled": true
   },
   "outputs": [
    {
     "name": "stderr",
     "output_type": "stream",
     "text": [
      "c:\\users\\service unit\\appdata\\local\\programs\\python\\python38\\lib\\site-packages\\seaborn\\distributions.py:2557: FutureWarning: `distplot` is a deprecated function and will be removed in a future version. Please adapt your code to use either `displot` (a figure-level function with similar flexibility) or `histplot` (an axes-level function for histograms).\n",
      "  warnings.warn(msg, FutureWarning)\n"
     ]
    },
    {
     "data": {
      "text/plain": [
       "<AxesSubplot:xlabel='Amount', ylabel='Density'>"
      ]
     },
     "execution_count": 34,
     "metadata": {},
     "output_type": "execute_result"
    },
    {
     "data": {
      "image/png": "[encoded data removed]",
      "text/plain": [
       "<Figure size 432x288 with 1 Axes>"
      ]
     },
     "metadata": {
      "needs_background": "light"
     },
     "output_type": "display_data"
    }
   ],
   "source": [
    "sns.distplot(rfm_df[\"Amount\"])"
   ]
  },
  {
   "cell_type": "code",
   "execution_count": 35,
   "metadata": {
    "ExecuteTime": {
     "end_time": "2020-12-30T16:11:01.180214Z",
     "start_time": "2020-12-30T16:11:01.158502Z"
    }
   },
   "outputs": [
    {
     "data": {
      "image/png": "[encoded data removed]",
      "text/plain": [
       "<Figure size 1152x360 with 3 Axes>"
      ]
     },
     "metadata": {
      "needs_background": "light"
     },
     "output_type": "display_data"
    }
   ],
   "source": [
    "# Convert array of values to dataframe\n",
    "scaled_features_df = pd.DataFrame(rfm_df_scaled, index=rfm_df.index, columns=rfm_df.columns)\n",
    "\n",
    "#Plot scaled values\n",
    "fig, axes = plt.subplots(ncols = 3, figsize=(16,5))\n",
    "\n",
    "scaled_features_df.hist(ax=[axes[0], axes[1], axes[2]])\n",
    "plt.show();"
   ]
  },
  {
   "cell_type": "markdown",
   "metadata": {
    "slideshow": {
     "slide_type": "slide"
    }
   },
   "source": [
    "## C. Modelling\n",
    "\n",
    "One your data is ready - meaning there are no more missing values, there are no strings, and the features have been engineered and selected based on your need, then we can begin modelling. We can import the K-Means algorithm from Scikit-Learn to start clustering.\n",
    "\n",
    "**K-means clustering** is an unsupervised machine learning model where data points are grouped into \"clusters\" based on their proximity to each other. A number K of clusters is pre-determined, and these clusters are generated by setting a cluster mean that minimizes the distance from the center to the points in the same cluster.\n"
   ]
  },
  {
   "cell_type": "code",
   "execution_count": 36,
   "metadata": {
    "ExecuteTime": {
     "end_time": "2020-12-30T13:34:32.276515Z",
     "start_time": "2020-12-30T13:34:31.698304Z"
    },
    "slideshow": {
     "slide_type": "slide"
    }
   },
   "outputs": [],
   "source": [
    "from sklearn.cluster import KMeans\n",
    "\n",
    "kmeans = KMeans(n_clusters=4, max_iter=50)\n",
    "kmeans.fit(rfm_df_scaled)\n",
    "cluster_labels = kmeans.predict(rfm_df_scaled)"
   ]
  },
  {
   "cell_type": "markdown",
   "metadata": {},
   "source": [
    "We can determine the number of clusters using the elbow-curve method. For the elbow method, we pick the k-value that has the sharpest corner."
   ]
  },
  {
   "cell_type": "code",
   "execution_count": 37,
   "metadata": {
    "ExecuteTime": {
     "end_time": "2020-12-30T13:34:46.111753Z",
     "start_time": "2020-12-30T13:34:44.374745Z"
    },
    "slideshow": {
     "slide_type": "slide"
    }
   },
   "outputs": [
    {
     "data": {
      "text/plain": [
       "[<matplotlib.lines.Line2D at 0x13cb45914f0>]"
      ]
     },
     "execution_count": 37,
     "metadata": {},
     "output_type": "execute_result"
    },
    {
     "data": {
      "image/png": "[encoded data removed]",
      "text/plain": [
       "<Figure size 432x288 with 1 Axes>"
      ]
     },
     "metadata": {
      "needs_background": "light"
     },
     "output_type": "display_data"
    }
   ],
   "source": [
    "# Elbow-curve\n",
    "\n",
    "ssd = []\n",
    "range_n_clusters = [2, 3, 4, 5, 6, 7, 8]\n",
    "for num_clusters in range_n_clusters:\n",
    "    kmeans = KMeans(n_clusters=num_clusters, max_iter=50)\n",
    "    kmeans.fit(rfm_df_scaled)\n",
    "    \n",
    "    ssd.append(kmeans.inertia_)\n",
    "    \n",
    "# plot the SSDs for each n_clusters\n",
    "plt.plot(ssd)"
   ]
  },
  {
   "cell_type": "markdown",
   "metadata": {},
   "source": [
    "Another way to determine clusters is using the silhoutte method. Silhouette coefficients near +1 indicate that the sample is far away from the neighboring clusters. A value of 0 indicates that the sample is on or very close to the decision boundary between two neighboring clusters and negative values indicate that those samples might have been assigned to the wrong cluster."
   ]
  },
  {
   "cell_type": "code",
   "execution_count": 38,
   "metadata": {
    "ExecuteTime": {
     "end_time": "2020-12-30T13:35:00.789091Z",
     "start_time": "2020-12-30T13:34:55.852044Z"
    }
   },
   "outputs": [
    {
     "name": "stdout",
     "output_type": "stream",
     "text": [
      "For n_clusters=2, the silhouette score is 0.5411146183621807\n",
      "For n_clusters=3, the silhouette score is 0.5084912287707195\n",
      "For n_clusters=4, the silhouette score is 0.4797912632344603\n",
      "For n_clusters=5, the silhouette score is 0.46626861640788636\n",
      "For n_clusters=6, the silhouette score is 0.41699184668248857\n",
      "For n_clusters=7, the silhouette score is 0.41729138764134466\n",
      "For n_clusters=8, the silhouette score is 0.3947826380914848\n"
     ]
    }
   ],
   "source": [
    "# Silhouette analysis\n",
    "from sklearn.metrics import silhouette_score\n",
    "range_n_clusters = [2, 3, 4, 5, 6, 7, 8]\n",
    "\n",
    "for num_clusters in range_n_clusters:\n",
    "    \n",
    "    # intialise kmeans\n",
    "    kmeans = KMeans(n_clusters=num_clusters, max_iter=50, random_state=42)\n",
    "    kmeans.fit(rfm_df_scaled)\n",
    "    \n",
    "    cluster_labels = kmeans.predict(rfm_df_scaled)\n",
    "    \n",
    "    # silhouette score\n",
    "    silhouette_avg = silhouette_score(rfm_df_scaled, cluster_labels)\n",
    "    print(\"For n_clusters={0}, the silhouette score is {1}\".format(num_clusters, silhouette_avg))"
   ]
  },
  {
   "cell_type": "code",
   "execution_count": 39,
   "metadata": {
    "ExecuteTime": {
     "end_time": "2020-12-30T13:35:22.444932Z",
     "start_time": "2020-12-30T13:35:22.329943Z"
    }
   },
   "outputs": [],
   "source": [
    "# Final model with k=3\n",
    "kmeans = KMeans(n_clusters=3, max_iter=50, random_state=42)\n",
    "kmeans.fit(rfm_df_scaled)\n",
    "cluster_labels = kmeans.predict(rfm_df_scaled)"
   ]
  },
  {
   "cell_type": "code",
   "execution_count": 40,
   "metadata": {
    "ExecuteTime": {
     "end_time": "2020-12-30T13:35:32.406505Z",
     "start_time": "2020-12-30T13:35:32.379172Z"
    }
   },
   "outputs": [
    {
     "data": {
      "text/html": [
       "<div>\n",
       "<style scoped>\n",
       "    .dataframe tbody tr th:only-of-type {\n",
       "        vertical-align: middle;\n",
       "    }\n",
       "\n",
       "    .dataframe tbody tr th {\n",
       "        vertical-align: top;\n",
       "    }\n",
       "\n",
       "    .dataframe thead th {\n",
       "        text-align: right;\n",
       "    }\n",
       "</style>\n",
       "<table border=\"1\" class=\"dataframe\">\n",
       "  <thead>\n",
       "    <tr style=\"text-align: right;\">\n",
       "      <th></th>\n",
       "      <th>CustomerID</th>\n",
       "      <th>Amount</th>\n",
       "      <th>Frequency</th>\n",
       "      <th>Recency</th>\n",
       "      <th>Cluster_Id</th>\n",
       "    </tr>\n",
       "  </thead>\n",
       "  <tbody>\n",
       "    <tr>\n",
       "      <th>0</th>\n",
       "      <td>12346</td>\n",
       "      <td>0.00</td>\n",
       "      <td>2</td>\n",
       "      <td>325</td>\n",
       "      <td>2</td>\n",
       "    </tr>\n",
       "    <tr>\n",
       "      <th>1</th>\n",
       "      <td>12347</td>\n",
       "      <td>4310.00</td>\n",
       "      <td>182</td>\n",
       "      <td>1</td>\n",
       "      <td>1</td>\n",
       "    </tr>\n",
       "    <tr>\n",
       "      <th>2</th>\n",
       "      <td>12348</td>\n",
       "      <td>1797.24</td>\n",
       "      <td>31</td>\n",
       "      <td>74</td>\n",
       "      <td>0</td>\n",
       "    </tr>\n",
       "    <tr>\n",
       "      <th>3</th>\n",
       "      <td>12349</td>\n",
       "      <td>1757.55</td>\n",
       "      <td>73</td>\n",
       "      <td>18</td>\n",
       "      <td>0</td>\n",
       "    </tr>\n",
       "    <tr>\n",
       "      <th>4</th>\n",
       "      <td>12350</td>\n",
       "      <td>334.40</td>\n",
       "      <td>17</td>\n",
       "      <td>309</td>\n",
       "      <td>2</td>\n",
       "    </tr>\n",
       "  </tbody>\n",
       "</table>\n",
       "</div>"
      ],
      "text/plain": [
       "  CustomerID   Amount  Frequency  Recency  Cluster_Id\n",
       "0      12346     0.00          2      325           2\n",
       "1      12347  4310.00        182        1           1\n",
       "2      12348  1797.24         31       74           0\n",
       "3      12349  1757.55         73       18           0\n",
       "4      12350   334.40         17      309           2"
      ]
     },
     "execution_count": 40,
     "metadata": {},
     "output_type": "execute_result"
    }
   ],
   "source": [
    "rfm['Cluster_Id'] = cluster_labels\n",
    "rfm.head()"
   ]
  },
  {
   "cell_type": "markdown",
   "metadata": {},
   "source": [
    "## D. Evaluation\n",
    "\n",
    "Let's try to visualize our results."
   ]
  },
  {
   "cell_type": "code",
   "execution_count": 41,
   "metadata": {},
   "outputs": [
    {
     "data": {
      "image/png": "[encoded data removed]",
      "text/plain": [
       "<Figure size 1152x360 with 3 Axes>"
      ]
     },
     "metadata": {
      "needs_background": "light"
     },
     "output_type": "display_data"
    }
   ],
   "source": [
    "fig, axes = plt.subplots(ncols = 3, figsize=(16,5))\n",
    "sns.boxplot(x=rfm.Cluster_Id, y=rfm.Recency, ax=axes[0])\n",
    "axes[0].set_title(\"Recency\", fontsize=16)\n",
    "\n",
    "sns.boxplot(x=rfm.Cluster_Id, y=rfm.Frequency, ax=axes[1])\n",
    "axes[1].set_title(\"Frequency\", fontsize=16)\n",
    "\n",
    "sns.boxplot(x=rfm.Cluster_Id, y=rfm.Amount, ax=axes[2])\n",
    "axes[2].set_title(\"Monetary\", fontsize=16)\n",
    "\n",
    "plt.show();"
   ]
  },
  {
   "cell_type": "markdown",
   "metadata": {},
   "source": [
    "## Test What You've Learned"
   ]
  },
  {
   "cell_type": "markdown",
   "metadata": {},
   "source": [
    "1. What is the median recency of cluster 1?"
   ]
  },
  {
   "cell_type": "code",
   "execution_count": 50,
   "metadata": {},
   "outputs": [
    {
     "data": {
      "text/plain": [
       "CustomerID    15058.00\n",
       "Amount         4122.28\n",
       "Frequency       265.00\n",
       "Recency          10.00\n",
       "Cluster_Id        1.00\n",
       "dtype: float64"
      ]
     },
     "execution_count": 50,
     "metadata": {},
     "output_type": "execute_result"
    }
   ],
   "source": [
    "# Insert code here\n",
    "rfm[rfm['Cluster_Id']==1].median()"
   ]
  },
  {
   "cell_type": "markdown",
   "metadata": {},
   "source": [
    "2. Which cluster has the largest range of values? What is the range?"
   ]
  },
  {
   "cell_type": "code",
   "execution_count": 78,
   "metadata": {},
   "outputs": [
    {
     "data": {
      "text/plain": [
       "Index(['CustomerID', 'Amount', 'Frequency', 'Recency', 'Cluster_Id'], dtype='object')"
      ]
     },
     "execution_count": 78,
     "metadata": {},
     "output_type": "execute_result"
    }
   ],
   "source": [
    "rfm.columns"
   ]
  },
  {
   "cell_type": "code",
   "execution_count": 73,
   "metadata": {},
   "outputs": [
    {
     "data": {
      "text/plain": [
       "Cluster_Id\n",
       "0    286\n",
       "1    714\n",
       "2    209\n",
       "Name: Frequency, dtype: int64"
      ]
     },
     "execution_count": 73,
     "metadata": {},
     "output_type": "execute_result"
    }
   ],
   "source": [
    "# Insert code here\n",
    "rfm.groupby('Cluster_Id')['Frequency'].max()-rfm.groupby('Cluster_Id')['Frequency'].min()\n"
   ]
  },
  {
   "cell_type": "code",
   "execution_count": 75,
   "metadata": {},
   "outputs": [
    {
     "data": {
      "text/plain": [
       "Cluster_Id\n",
       "0    179\n",
       "1    301\n",
       "2    238\n",
       "Name: Recency, dtype: int64"
      ]
     },
     "execution_count": 75,
     "metadata": {},
     "output_type": "execute_result"
    }
   ],
   "source": [
    "rfm.groupby('Cluster_Id')['Recency'].max()-rfm.groupby('Cluster_Id')['Recency'].min()"
   ]
  },
  {
   "cell_type": "code",
   "execution_count": 80,
   "metadata": {},
   "outputs": [
    {
     "data": {
      "text/plain": [
       "Cluster_Id\n",
       "0     6077.71\n",
       "1    12638.01\n",
       "2     8751.73\n",
       "Name: Amount, dtype: float64"
      ]
     },
     "execution_count": 80,
     "metadata": {},
     "output_type": "execute_result"
    }
   ],
   "source": [
    "rfm.groupby('Cluster_Id')['Amount'].max()-rfm.groupby('Cluster_Id')['Amount'].min()"
   ]
  },
  {
   "cell_type": "markdown",
   "metadata": {},
   "source": [
    "3. Which cluster has the most number of customers? How many customers does this cluster have?"
   ]
  },
  {
   "cell_type": "code",
   "execution_count": 101,
   "metadata": {},
   "outputs": [
    {
     "data": {
      "text/plain": [
       "2726"
      ]
     },
     "execution_count": 101,
     "metadata": {},
     "output_type": "execute_result"
    }
   ],
   "source": [
    "rfm_1 = rfm[rfm['Cluster_Id']==0]\n",
    "rfm_1['CustomerID'].value_counts().sum()"
   ]
  },
  {
   "cell_type": "code",
   "execution_count": 81,
   "metadata": {
    "scrolled": true
   },
   "outputs": [
    {
     "data": {
      "text/plain": [
       "0    2726\n",
       "2    1068\n",
       "1     499\n",
       "Name: Cluster_Id, dtype: int64"
      ]
     },
     "execution_count": 81,
     "metadata": {},
     "output_type": "execute_result"
    }
   ],
   "source": [
    "# Insert code here\n",
    "rfm['Cluster_Id'].value_counts()"
   ]
  },
  {
   "cell_type": "markdown",
   "metadata": {},
   "source": [
    "4. When performing clusters, what is the kmeans algorithm trying to minimize?\n",
    "    - a. silhouette score\n",
    "    - b. inertia\n",
    "    - c. variance\n",
    "    - d. error\n",
    "\n"
   ]
  },
  {
   "cell_type": "markdown",
   "metadata": {},
   "source": [
    "5. In RFM, this refers to how often a customer makes a purchase:\n",
    "    - a. Recency\n",
    "    - b. Frequency\n",
    "    - c. Monetary Value"
   ]
  },
  {
   "cell_type": "code",
   "execution_count": null,
   "metadata": {},
   "outputs": [],
   "source": []
  }
 ],
 "metadata": {
  "kernelspec": {
   "display_name": "Python 3",
   "language": "python",
   "name": "python3"
  },
  "language_info": {
   "codemirror_mode": {
    "name": "ipython",
    "version": 3
   },
   "file_extension": ".py",
   "mimetype": "text/x-python",
   "name": "python",
   "nbconvert_exporter": "python",
   "pygments_lexer": "ipython3",
   "version": "3.8.3"
  }
 },
 "nbformat": 4,
 "nbformat_minor": 2
}
